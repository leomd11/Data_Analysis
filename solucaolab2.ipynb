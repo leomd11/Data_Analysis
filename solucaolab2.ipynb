{
 "cells": [
  {
   "cell_type": "code",
   "execution_count": null,
   "metadata": {},
   "outputs": [],
   "source": [
    "# Calculadora em Python\n",
    "\n",
    "# Desenvolva uma calculadora em Python com tudo que você aprendeu nos capítulos 2 e 3. \n",
    "# A solução será apresentada no próximo capítulo!\n",
    "# Assista o vídeo com a execução do programa!\n",
    "\n",
    "print(\"\\n******************* Python Calculator *******************\\n\\n\")\n",
    "\n",
    "print('Selecione o número da operação desejada:\\n')\n",
    "\n",
    "print('1 - Soma \\n2 - Subtração \\n3 - Multiplicação \\n4 - Divisão')"
   ]
  },
  {
   "cell_type": "code",
   "execution_count": null,
   "metadata": {},
   "outputs": [],
   "source": [
    "escolha = input('Digite sua opção(1/2/3/4):')\n",
    "\n",
    "num1 = float(input('Digite o primeiro número:'))\n",
    "\n",
    "num2 = float(input('Digite o segundo número:'))"
   ]
  },
  {
   "cell_type": "code",
   "execution_count": null,
   "metadata": {},
   "outputs": [],
   "source": [
    "if escolha =='1':\n",
    "    resultsoma = num1 + num2\n",
    "    print('A soma dos números %s e %r dá: '%(num1, num2), resultsoma)\n",
    "elif escolha =='2':\n",
    "    resultsub = num1 - num2\n",
    "    print('A subtração dos números %s e %r dá:'%(num1, num2), resultsub)\n",
    "elif escolha =='3':\n",
    "    resultmult = num1*num2\n",
    "    print('A multiplicação dos números %s e %r dá:'%(num1, num2), resultmult)\n",
    "else: \n",
    "    resultdiv = num1/num2\n",
    "    print('A divisão dos números %s e %r dá:'%(num1, num2),resultdiv)\n",
    "    \n",
    "    "
   ]
  }
 ],
 "metadata": {
  "kernelspec": {
   "display_name": "Python 3",
   "language": "python",
   "name": "python3"
  },
  "language_info": {
   "codemirror_mode": {
    "name": "ipython",
    "version": 3
   },
   "file_extension": ".py",
   "mimetype": "text/x-python",
   "name": "python",
   "nbconvert_exporter": "python",
   "pygments_lexer": "ipython3",
   "version": "3.7.6"
  }
 },
 "nbformat": 4,
 "nbformat_minor": 4
}
